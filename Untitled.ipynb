{
 "cells": [
  {
   "cell_type": "code",
   "execution_count": 12,
   "id": "222f4a4d-a88c-4cc9-b259-27a9ca756027",
   "metadata": {},
   "outputs": [],
   "source": [
    "import sympy as sp\n",
    "x,y=sp.symbols('x y')\n",
    "from sympy.solvers import solve"
   ]
  },
  {
   "cell_type": "code",
   "execution_count": 79,
   "id": "35dedb96-bc7e-4728-8c80-a7d87869d13e",
   "metadata": {},
   "outputs": [
    {
     "data": {
      "text/plain": [
       "{x: -1, y: 2}"
      ]
     },
     "execution_count": 79,
     "metadata": {},
     "output_type": "execute_result"
    }
   ],
   "source": [
    "#15 Oppgave 1a\n",
    "eq1=sp.Eq(2*x + 4*y,6)\n",
    "eq1\n",
    "eq2=sp.Eq(-2*x + y,4)\n",
    "eq2\n",
    "solve([eq1,eq2],[x,y])"
   ]
  },
  {
   "cell_type": "code",
   "execution_count": 26,
   "id": "f9ee1b65-3b41-4634-95f3-30fe5ac830a1",
   "metadata": {},
   "outputs": [
    {
     "data": {
      "text/plain": [
       "[(-1, -1), (2, 5)]"
      ]
     },
     "execution_count": 26,
     "metadata": {},
     "output_type": "execute_result"
    }
   ],
   "source": [
    "#15 oppgave 1b\n",
    "eq1=sp.Eq(2*x - y,-1)\n",
    "eq1\n",
    "eq2=sp.Eq(x**2 + x - y,1)\n",
    "eq2\n",
    "solve([eq1,eq2],[x,y])"
   ]
  },
  {
   "cell_type": "code",
   "execution_count": 28,
   "id": "a2e3b04f-c749-4a42-8c7b-b765faf55723",
   "metadata": {},
   "outputs": [
    {
     "data": {
      "text/plain": [
       "{x: 4, y: 0}"
      ]
     },
     "execution_count": 28,
     "metadata": {},
     "output_type": "execute_result"
    }
   ],
   "source": [
    "#15 oppgave 2a\n",
    "eq1=sp.Eq(3*x - 12,-6*y)\n",
    "eq1\n",
    "eq2=sp.Eq(4*x - 8*y,16)\n",
    "eq2\n",
    "solve([eq1,eq2],[x,y])"
   ]
  },
  {
   "cell_type": "code",
   "execution_count": 30,
   "id": "48ebd8d0-dae8-48d1-ada3-fcc3319db444",
   "metadata": {},
   "outputs": [
    {
     "data": {
      "text/plain": [
       "[(-15/2, 31/4), (2, 3)]"
      ]
     },
     "execution_count": 30,
     "metadata": {},
     "output_type": "execute_result"
    }
   ],
   "source": [
    "#15 oppgave 2b\n",
    "eq1=sp.Eq(x**2 + 4*x - 3,3*y)\n",
    "eq1\n",
    "eq2=sp.Eq(2*y,8 - x)\n",
    "eq2\n",
    "solve([eq1,eq2],[x,y])"
   ]
  },
  {
   "cell_type": "code",
   "execution_count": 32,
   "id": "b58aaeab-27eb-472c-8c52-538a2a3061d6",
   "metadata": {},
   "outputs": [
    {
     "data": {
      "text/plain": [
       "{x: 2, y: 2}"
      ]
     },
     "execution_count": 32,
     "metadata": {},
     "output_type": "execute_result"
    }
   ],
   "source": [
    "#16 oppgave 1a\n",
    "eq1=sp.Eq(4*x + 2*y,12)\n",
    "eq1\n",
    "eq2=sp.Eq(6*x - 2*y,8)\n",
    "eq2\n",
    "solve([eq1,eq2],[x,y])"
   ]
  },
  {
   "cell_type": "code",
   "execution_count": 34,
   "id": "be436d0b-6555-4323-a4e0-540f2b843fb0",
   "metadata": {},
   "outputs": [
    {
     "data": {
      "text/plain": [
       "[(0, -5), (12, 1)]"
      ]
     },
     "execution_count": 34,
     "metadata": {},
     "output_type": "execute_result"
    }
   ],
   "source": [
    "#15 oppgave 1b\n",
    "eq1=sp.Eq(2*x + y**2,25)\n",
    "eq1\n",
    "eq2=sp.Eq(x - 2*y,10)\n",
    "eq2\n",
    "solve([eq1,eq2],[x,y])"
   ]
  },
  {
   "cell_type": "code",
   "execution_count": 36,
   "id": "1d290176-5481-416b-9ae9-9e12a08bdb66",
   "metadata": {},
   "outputs": [
    {
     "data": {
      "text/plain": [
       "{x: 4, y: 2}"
      ]
     },
     "execution_count": 36,
     "metadata": {},
     "output_type": "execute_result"
    }
   ],
   "source": [
    "#16 oppgave 2a\n",
    "eq1=sp.Eq(4*x - 4*y,8)\n",
    "eq1\n",
    "eq2=sp.Eq(9*x - 5*y,26)\n",
    "eq2\n",
    "solve([eq1,eq2],[x,y])"
   ]
  },
  {
   "cell_type": "code",
   "execution_count": 38,
   "id": "ca7fe4f0-80f7-4838-acda-e15838bd2f21",
   "metadata": {},
   "outputs": [
    {
     "data": {
      "text/plain": [
       "[(-9, -2*sqrt(3)), (-9, 2*sqrt(3)), (7, -2), (7, 2)]"
      ]
     },
     "execution_count": 38,
     "metadata": {},
     "output_type": "execute_result"
    }
   ],
   "source": [
    "#16 oppgave 2b\n",
    "eq1=sp.Eq(x + 2*y**2,15)\n",
    "eq1\n",
    "eq2=sp.Eq(x**2 - 4*y**2,33)\n",
    "eq2\n",
    "solve([eq1,eq2],[x,y])"
   ]
  },
  {
   "cell_type": "code",
   "execution_count": 40,
   "id": "54aaa1e0-f9d5-47d8-ba93-f0668e61b42e",
   "metadata": {},
   "outputs": [
    {
     "data": {
      "text/plain": [
       "[(0, -4), (0, 4), (15, -1), (15, 1)]"
      ]
     },
     "execution_count": 40,
     "metadata": {},
     "output_type": "execute_result"
    }
   ],
   "source": [
    "#17 oppgave 1a\n",
    "eq1=sp.Eq(x*y**2 - x,0)\n",
    "eq1\n",
    "eq2=sp.Eq(x + y**2,16)\n",
    "eq2\n",
    "solve([eq1,eq2],[x,y])"
   ]
  },
  {
   "cell_type": "code",
   "execution_count": 42,
   "id": "43db7f24-d15a-4d97-9eee-350332ec1f24",
   "metadata": {},
   "outputs": [
    {
     "data": {
      "text/plain": [
       "[(-10, 0), (-6, -8), (-6, 8), (6, -8), (6, 8), (10, 0)]"
      ]
     },
     "execution_count": 42,
     "metadata": {},
     "output_type": "execute_result"
    }
   ],
   "source": [
    "#17 oppgave 1b\n",
    "eq1=sp.Eq(x**2 + y**2,100)\n",
    "eq1\n",
    "eq2=sp.Eq(x**2*y- 36*y,0)\n",
    "eq2\n",
    "solve([eq1,eq2],[x,y])"
   ]
  },
  {
   "cell_type": "code",
   "execution_count": 44,
   "id": "869bfba6-9efe-4649-995e-54f10f84a2e6",
   "metadata": {},
   "outputs": [
    {
     "data": {
      "text/plain": [
       "[(-3, -7), (-3, 7), (0, -sqrt(58)), (0, sqrt(58)), (3, -7), (3, 7)]"
      ]
     },
     "execution_count": 44,
     "metadata": {},
     "output_type": "execute_result"
    }
   ],
   "source": [
    "#17 oppgave 2a\n",
    "eq1=sp.Eq(x*y**2 -49*x,0)\n",
    "eq1\n",
    "eq2=sp.Eq(x**2 + y**2,58)\n",
    "eq2\n",
    "solve([eq1,eq2],[x,y])"
   ]
  },
  {
   "cell_type": "code",
   "execution_count": 46,
   "id": "57ace057-39f0-4200-942f-64908fa5c951",
   "metadata": {},
   "outputs": [
    {
     "data": {
      "text/plain": [
       "[(-0.500000000000000, 1.12500000000000), (0.625000000000000, 0.0)]"
      ]
     },
     "execution_count": 46,
     "metadata": {},
     "output_type": "execute_result"
    }
   ],
   "source": [
    "#17 oppgave 2b\n",
    "eq1=sp.Eq(x*2 + y*2,5/4)\n",
    "eq1\n",
    "eq2=sp.Eq(2*x*y +y,0)\n",
    "eq2\n",
    "solve([eq1,eq2],[x,y])"
   ]
  },
  {
   "cell_type": "code",
   "execution_count": 49,
   "id": "12c86b1a-97d9-4a04-9945-9dbce8f30f67",
   "metadata": {},
   "outputs": [],
   "source": [
    "import sympy as sp\n",
    "x=sp.symbols('x')"
   ]
  },
  {
   "cell_type": "code",
   "execution_count": 54,
   "id": "3f7dc573-e71c-42df-a383-f89be88b3f45",
   "metadata": {},
   "outputs": [
    {
     "data": {
      "text/latex": [
       "$\\displaystyle 5 x^{4}$"
      ],
      "text/plain": [
       "5*x**4"
      ]
     },
     "execution_count": 54,
     "metadata": {},
     "output_type": "execute_result"
    }
   ],
   "source": [
    "#19 Oppave 1 (a,b,c,d,e,f,g)\n",
    "\n",
    "d_profitt=sp.diff(x**5,)\n",
    "d_profitt"
   ]
  },
  {
   "cell_type": "code",
   "execution_count": 59,
   "id": "2e427257-a994-47b7-afd5-374863f83b0e",
   "metadata": {},
   "outputs": [
    {
     "data": {
      "text/latex": [
       "$\\displaystyle 1$"
      ],
      "text/plain": [
       "1"
      ]
     },
     "execution_count": 59,
     "metadata": {},
     "output_type": "execute_result"
    }
   ],
   "source": [
    "d_profitt=sp.diff(x + 12,)\n",
    "d_profitt"
   ]
  },
  {
   "cell_type": "code",
   "execution_count": 60,
   "id": "afa41407-dc5f-48b7-bbd4-16ee451ed808",
   "metadata": {},
   "outputs": [
    {
     "data": {
      "text/latex": [
       "$\\displaystyle 3 x^{2} + 8 x$"
      ],
      "text/plain": [
       "3*x**2 + 8*x"
      ]
     },
     "execution_count": 60,
     "metadata": {},
     "output_type": "execute_result"
    }
   ],
   "source": [
    "d_profitt=sp.diff(x**3 + 4*x**2,)\n",
    "d_profitt"
   ]
  },
  {
   "cell_type": "code",
   "execution_count": 62,
   "id": "badd6f32-51cc-46e4-adfa-4e96e83f2d00",
   "metadata": {},
   "outputs": [
    {
     "data": {
      "text/latex": [
       "$\\displaystyle 6 x^{2}$"
      ],
      "text/plain": [
       "6*x**2"
      ]
     },
     "execution_count": 62,
     "metadata": {},
     "output_type": "execute_result"
    }
   ],
   "source": [
    "d_profitt=sp.diff(2*x**3 + 36**(1/2),)\n",
    "d_profitt"
   ]
  },
  {
   "cell_type": "code",
   "execution_count": 65,
   "id": "04cde1cb-5bc8-4496-91c0-53bac85450cd",
   "metadata": {},
   "outputs": [
    {
     "data": {
      "text/latex": [
       "$\\displaystyle \\frac{0.5}{x^{0.5}}$"
      ],
      "text/plain": [
       "0.5*x**(-0.5)"
      ]
     },
     "execution_count": 65,
     "metadata": {},
     "output_type": "execute_result"
    }
   ],
   "source": [
    "d_profitt=sp.diff(x**(1/2) + 5**2,)\n",
    "d_profitt"
   ]
  },
  {
   "cell_type": "code",
   "execution_count": 67,
   "id": "9aed94ba-0528-4675-abc8-7775d95efb8b",
   "metadata": {},
   "outputs": [
    {
     "data": {
      "text/latex": [
       "$\\displaystyle 3 x^{2} - \\frac{1}{x^{2}}$"
      ],
      "text/plain": [
       "3*x**2 - 1/x**2"
      ]
     },
     "execution_count": 67,
     "metadata": {},
     "output_type": "execute_result"
    }
   ],
   "source": [
    "d_profitt=sp.diff(x**3 +1/x,)\n",
    "d_profitt"
   ]
  },
  {
   "cell_type": "code",
   "execution_count": 69,
   "id": "0d9640a5-4de6-40b9-b8ae-170e58621ba1",
   "metadata": {},
   "outputs": [
    {
     "data": {
      "text/latex": [
       "$\\displaystyle 3 x^{2} - 2 x + 0.25$"
      ],
      "text/plain": [
       "3*x**2 - 2*x + 0.25"
      ]
     },
     "execution_count": 69,
     "metadata": {},
     "output_type": "execute_result"
    }
   ],
   "source": [
    "d_profitt=sp.diff(x**3 - x**2 + (1/4)*x,)\n",
    "d_profitt"
   ]
  },
  {
   "cell_type": "code",
   "execution_count": 70,
   "id": "ba7762f6-c333-4045-907c-72a8671200fc",
   "metadata": {},
   "outputs": [],
   "source": [
    "#19 Oppgave 2 (a,b,c)"
   ]
  },
  {
   "cell_type": "code",
   "execution_count": 72,
   "id": "63c8558b-b507-450d-a1ec-3103682e9a04",
   "metadata": {},
   "outputs": [
    {
     "data": {
      "text/latex": [
       "$\\displaystyle 36 x^{5} - \\frac{1}{x^{2}}$"
      ],
      "text/plain": [
       "36*x**5 - 1/x**2"
      ]
     },
     "execution_count": 72,
     "metadata": {},
     "output_type": "execute_result"
    }
   ],
   "source": [
    "d_profitt=sp.diff(1/x + 6*x**6,)\n",
    "d_profitt"
   ]
  },
  {
   "cell_type": "code",
   "execution_count": 76,
   "id": "a077295b-83e8-4235-aa9a-298ddf0e6748",
   "metadata": {},
   "outputs": [
    {
     "data": {
      "text/latex": [
       "$\\displaystyle 1.5 x^{2} - 1$"
      ],
      "text/plain": [
       "1.5*x**2 - 1"
      ]
     },
     "execution_count": 76,
     "metadata": {},
     "output_type": "execute_result"
    }
   ],
   "source": [
    "d_profitt=sp.diff(-x + 1/2*x**3,)\n",
    "d_profitt"
   ]
  },
  {
   "cell_type": "code",
   "execution_count": 80,
   "id": "63edb6a3-d166-4ab7-9708-4a9a30024732",
   "metadata": {},
   "outputs": [
    {
     "data": {
      "text/latex": [
       "$\\displaystyle x^{2} + x \\left(2 x + 2\\right) + 2 x - 3$"
      ],
      "text/plain": [
       "x**2 + x*(2*x + 2) + 2*x - 3"
      ]
     },
     "execution_count": 80,
     "metadata": {},
     "output_type": "execute_result"
    }
   ],
   "source": [
    "d_profitt=sp.diff(x*(x**2+2*x-3),)\n",
    "d_profitt"
   ]
  },
  {
   "cell_type": "code",
   "execution_count": 81,
   "id": "b45e20c6-4f53-4d5c-bc32-654fbbf62da5",
   "metadata": {},
   "outputs": [],
   "source": [
    "#20 Oppgave 1 e,f,g,h,i,j,k,l,m\n"
   ]
  },
  {
   "cell_type": "code",
   "execution_count": 83,
   "id": "d28c99a4-7dd6-49d4-9e6f-6054268b9663",
   "metadata": {},
   "outputs": [
    {
     "data": {
      "text/latex": [
       "$\\displaystyle 9 x^{8}$"
      ],
      "text/plain": [
       "9*x**8"
      ]
     },
     "execution_count": 83,
     "metadata": {},
     "output_type": "execute_result"
    }
   ],
   "source": [
    "d_profitt=sp.diff(x**4 * x**5,)\n",
    "d_profitt"
   ]
  },
  {
   "cell_type": "code",
   "execution_count": 85,
   "id": "eceffb37-5913-4f43-a371-0bfe81f67095",
   "metadata": {},
   "outputs": [
    {
     "data": {
      "text/latex": [
       "$\\displaystyle 1.5 x^{0.5}$"
      ],
      "text/plain": [
       "1.5*x**0.5"
      ]
     },
     "execution_count": 85,
     "metadata": {},
     "output_type": "execute_result"
    }
   ],
   "source": [
    "d_profitt=sp.diff(x * x**(1/2),)\n",
    "d_profitt"
   ]
  },
  {
   "cell_type": "code",
   "execution_count": 87,
   "id": "7e109f81-7390-416b-98ae-b8d0c6253ddf",
   "metadata": {},
   "outputs": [
    {
     "data": {
      "text/latex": [
       "$\\displaystyle - \\frac{6}{x^{4}}$"
      ],
      "text/plain": [
       "-6/x**4"
      ]
     },
     "execution_count": 87,
     "metadata": {},
     "output_type": "execute_result"
    }
   ],
   "source": [
    "d_profitt=sp.diff(2/x**3,)\n",
    "d_profitt"
   ]
  },
  {
   "cell_type": "code",
   "execution_count": 90,
   "id": "6ae517c8-ca8c-4e84-bc10-17e90afc2a9a",
   "metadata": {},
   "outputs": [
    {
     "data": {
      "text/latex": [
       "$\\displaystyle \\frac{2}{x^{2}} - \\frac{3 \\left(x^{2} - 2\\right)}{x^{4}}$"
      ],
      "text/plain": [
       "2/x**2 - 3*(x**2 - 2)/x**4"
      ]
     },
     "execution_count": 90,
     "metadata": {},
     "output_type": "execute_result"
    }
   ],
   "source": [
    "d_profitt=sp.diff((x**2 - 2)/x**3,)\n",
    "d_profitt"
   ]
  },
  {
   "cell_type": "code",
   "execution_count": 92,
   "id": "99e42485-1e3d-4ce5-b558-1eb9f783b33e",
   "metadata": {},
   "outputs": [
    {
     "data": {
      "text/latex": [
       "$\\displaystyle 6.5 x^{5.5}$"
      ],
      "text/plain": [
       "6.5*x**5.5"
      ]
     },
     "execution_count": 92,
     "metadata": {},
     "output_type": "execute_result"
    }
   ],
   "source": [
    "d_profitt=sp.diff(x**(1/2)*x**6,)\n",
    "d_profitt"
   ]
  },
  {
   "cell_type": "code",
   "execution_count": 94,
   "id": "2a0d72ef-e74d-471e-b5eb-67fd88c8e50f",
   "metadata": {},
   "outputs": [
    {
     "data": {
      "text/latex": [
       "$\\displaystyle 3 x^{2} + 1$"
      ],
      "text/plain": [
       "3*x**2 + 1"
      ]
     },
     "execution_count": 94,
     "metadata": {},
     "output_type": "execute_result"
    }
   ],
   "source": [
    "d_profitt=sp.diff(x*(x**2+1),)\n",
    "d_profitt"
   ]
  },
  {
   "cell_type": "code",
   "execution_count": 96,
   "id": "8d98bfd8-2f98-46ef-967a-7902a0e03ade",
   "metadata": {},
   "outputs": [
    {
     "data": {
      "text/latex": [
       "$\\displaystyle - \\frac{3 x^{2} \\left(x^{2} + 4\\right)}{\\left(x^{3} - 1\\right)^{2}} + \\frac{2 x}{x^{3} - 1}$"
      ],
      "text/plain": [
       "-3*x**2*(x**2 + 4)/(x**3 - 1)**2 + 2*x/(x**3 - 1)"
      ]
     },
     "execution_count": 96,
     "metadata": {},
     "output_type": "execute_result"
    }
   ],
   "source": [
    "d_profitt=sp.diff((x**2+4)/(x**3-1),)\n",
    "d_profitt"
   ]
  },
  {
   "cell_type": "code",
   "execution_count": 100,
   "id": "73d7a8c7-25de-4f2a-943b-6ad5464390c2",
   "metadata": {},
   "outputs": [
    {
     "data": {
      "text/latex": [
       "$\\displaystyle \\frac{x^{2} \\left(- 2 x - 2\\right)}{\\left(x^{2} + 2 x\\right)^{2}} + \\frac{2 x}{x^{2} + 2 x}$"
      ],
      "text/plain": [
       "x**2*(-2*x - 2)/(x**2 + 2*x)**2 + 2*x/(x**2 + 2*x)"
      ]
     },
     "execution_count": 100,
     "metadata": {},
     "output_type": "execute_result"
    }
   ],
   "source": [
    "d_profitt=sp.diff((x**2)/(x**2 + 2*x),)\n",
    "d_profitt"
   ]
  },
  {
   "cell_type": "code",
   "execution_count": 102,
   "id": "a187dca3-7291-4978-b255-575c37608a47",
   "metadata": {},
   "outputs": [
    {
     "data": {
      "text/latex": [
       "$\\displaystyle \\frac{2 x + 4}{x - 2} - \\frac{x^{2} + 4 x + 2}{\\left(x - 2\\right)^{2}}$"
      ],
      "text/plain": [
       "(2*x + 4)/(x - 2) - (x**2 + 4*x + 2)/(x - 2)**2"
      ]
     },
     "execution_count": 102,
     "metadata": {},
     "output_type": "execute_result"
    }
   ],
   "source": [
    "d_profitt=sp.diff((x**2 + 4*x + 2)/(x-2),)\n",
    "d_profitt"
   ]
  },
  {
   "cell_type": "code",
   "execution_count": 103,
   "id": "c9e63e17-845a-41a8-a173-c8d1476d7c6d",
   "metadata": {},
   "outputs": [],
   "source": [
    "#20 oppgave 2 a,b,c"
   ]
  },
  {
   "cell_type": "code",
   "execution_count": 105,
   "id": "2a8951ad-eef9-45a2-bac5-6a7835ca10c0",
   "metadata": {},
   "outputs": [
    {
     "data": {
      "text/latex": [
       "$\\displaystyle - \\frac{2 x \\left(x^{3} - 2 x\\right)}{\\left(x^{2} - 1\\right)^{2}} + \\frac{3 x^{2} - 2}{x^{2} - 1}$"
      ],
      "text/plain": [
       "-2*x*(x**3 - 2*x)/(x**2 - 1)**2 + (3*x**2 - 2)/(x**2 - 1)"
      ]
     },
     "execution_count": 105,
     "metadata": {},
     "output_type": "execute_result"
    }
   ],
   "source": [
    "d_profitt=sp.diff((x**3 - 2*x)/(x**2-1),)\n",
    "d_profitt"
   ]
  },
  {
   "cell_type": "code",
   "execution_count": 107,
   "id": "5ba3ac6a-b381-4e86-817e-8ed36ed3d535",
   "metadata": {},
   "outputs": [
    {
     "data": {
      "text/latex": [
       "$\\displaystyle 2 x \\left(x^{2} - 1\\right) + 2 x \\left(x^{2} + 1\\right)$"
      ],
      "text/plain": [
       "2*x*(x**2 - 1) + 2*x*(x**2 + 1)"
      ]
     },
     "execution_count": 107,
     "metadata": {},
     "output_type": "execute_result"
    }
   ],
   "source": [
    "d_profitt=sp.diff((x**2+1)*(x**2-1),)\n",
    "d_profitt"
   ]
  },
  {
   "cell_type": "code",
   "execution_count": 109,
   "id": "8274780d-1bf9-4379-ae77-f282d24ee126",
   "metadata": {},
   "outputs": [
    {
     "data": {
      "text/latex": [
       "$\\displaystyle - \\frac{3 x^{2} \\left(3 x - 4\\right)}{\\left(x^{3} + 7\\right)^{2}} + \\frac{3}{x^{3} + 7}$"
      ],
      "text/plain": [
       "-3*x**2*(3*x - 4)/(x**3 + 7)**2 + 3/(x**3 + 7)"
      ]
     },
     "execution_count": 109,
     "metadata": {},
     "output_type": "execute_result"
    }
   ],
   "source": [
    "d_profitt=sp.diff((3*x-4)/(x**3 + 7),)\n",
    "d_profitt"
   ]
  },
  {
   "cell_type": "code",
   "execution_count": 110,
   "id": "591cb1d8-3f31-4725-944f-fbcc365aac8e",
   "metadata": {},
   "outputs": [],
   "source": [
    "#21 Oppgave 1 a,b,c,d,e,f,g,h,i"
   ]
  },
  {
   "cell_type": "code",
   "execution_count": 112,
   "id": "15a17e6e-1b9c-4703-9d57-8b7c92d90468",
   "metadata": {},
   "outputs": [
    {
     "data": {
      "text/latex": [
       "$\\displaystyle \\left(15 x^{2} + 30\\right) \\left(x^{3} + 6 x\\right)^{4}$"
      ],
      "text/plain": [
       "(15*x**2 + 30)*(x**3 + 6*x)**4"
      ]
     },
     "execution_count": 112,
     "metadata": {},
     "output_type": "execute_result"
    }
   ],
   "source": [
    "d_profitt=sp.diff((x**3 + 6*x)**5,)\n",
    "d_profitt"
   ]
  },
  {
   "cell_type": "code",
   "execution_count": 114,
   "id": "1b4d569a-20aa-4fe5-9de8-a89c44b7f483",
   "metadata": {},
   "outputs": [
    {
     "data": {
      "text/latex": [
       "$\\displaystyle \\frac{2.0 x}{\\left(2 x^{2} + 5\\right)^{0.5}}$"
      ],
      "text/plain": [
       "2.0*x*(2*x**2 + 5)**(-0.5)"
      ]
     },
     "execution_count": 114,
     "metadata": {},
     "output_type": "execute_result"
    }
   ],
   "source": [
    "d_profitt=sp.diff((2*x**2+5)**(1/2),)\n",
    "d_profitt"
   ]
  },
  {
   "cell_type": "code",
   "execution_count": 116,
   "id": "12477cc8-4893-4d19-ba87-8e148d53319d",
   "metadata": {},
   "outputs": [
    {
     "data": {
      "text/latex": [
       "$\\displaystyle - \\frac{128 x^{5}}{\\left(x^{2} + 3\\right)^{5}} + \\frac{64 x^{3}}{\\left(x^{2} + 3\\right)^{4}}$"
      ],
      "text/plain": [
       "-128*x**5/(x**2 + 3)**5 + 64*x**3/(x**2 + 3)**4"
      ]
     },
     "execution_count": 116,
     "metadata": {},
     "output_type": "execute_result"
    }
   ],
   "source": [
    "d_profitt=sp.diff(((2*x)/(x**2+3))**4,)\n",
    "d_profitt"
   ]
  },
  {
   "cell_type": "code",
   "execution_count": 118,
   "id": "bd2c74cd-ea9e-46f9-9238-01916ce23ebd",
   "metadata": {},
   "outputs": [
    {
     "data": {
      "text/latex": [
       "$\\displaystyle 12.0 x^{3} \\left(2 x^{4} + 9\\right)^{0.5}$"
      ],
      "text/plain": [
       "12.0*x**3*(2*x**4 + 9)**0.5"
      ]
     },
     "execution_count": 118,
     "metadata": {},
     "output_type": "execute_result"
    }
   ],
   "source": [
    "d_profitt=sp.diff((2*x**4+9)**(3/2),)\n",
    "d_profitt"
   ]
  },
  {
   "cell_type": "code",
   "execution_count": 120,
   "id": "0236b46f-2a0a-4b35-93e9-d6ec03f5455a",
   "metadata": {},
   "outputs": [
    {
     "data": {
      "text/latex": [
       "$\\displaystyle - \\frac{1.0 x}{\\left(x^{2} + 1\\right)^{1.5}}$"
      ],
      "text/plain": [
       "-1.0*x*(x**2 + 1)**(-1.5)"
      ]
     },
     "execution_count": 120,
     "metadata": {},
     "output_type": "execute_result"
    }
   ],
   "source": [
    "d_profitt=sp.diff((1)/(1+x**2)**(1/2),)\n",
    "d_profitt"
   ]
  },
  {
   "cell_type": "code",
   "execution_count": 122,
   "id": "e9046789-c587-43d6-9aab-a35afed0726d",
   "metadata": {},
   "outputs": [
    {
     "data": {
      "text/latex": [
       "$\\displaystyle x^{2} \\left(6 x + 6\\right) \\left(x^{2} + 2 x\\right)^{2} + 2 x \\left(x^{2} + 2 x\\right)^{3}$"
      ],
      "text/plain": [
       "x**2*(6*x + 6)*(x**2 + 2*x)**2 + 2*x*(x**2 + 2*x)**3"
      ]
     },
     "execution_count": 122,
     "metadata": {},
     "output_type": "execute_result"
    }
   ],
   "source": [
    "d_profitt=sp.diff(x**2 * (x**2+2*x)**3,)\n",
    "d_profitt"
   ]
  },
  {
   "cell_type": "code",
   "execution_count": 124,
   "id": "75d72010-5afe-4acb-a009-7a0e80f18aee",
   "metadata": {},
   "outputs": [
    {
     "data": {
      "text/latex": [
       "$\\displaystyle \\frac{x^{2} \\left(1.0 x - 1.0\\right)}{\\left(x^{2} - 2 x\\right)^{0.5}} + 2 x \\left(x^{2} - 2 x\\right)^{0.5}$"
      ],
      "text/plain": [
       "x**2*(1.0*x - 1.0)*(x**2 - 2*x)**(-0.5) + 2*x*(x**2 - 2*x)**0.5"
      ]
     },
     "execution_count": 124,
     "metadata": {},
     "output_type": "execute_result"
    }
   ],
   "source": [
    "d_profitt=sp.diff(x**2 *(x**2-2*x)**(1/2),)\n",
    "d_profitt"
   ]
  },
  {
   "cell_type": "code",
   "execution_count": 126,
   "id": "86366d5a-d71f-49d7-8f96-38d73c1af92c",
   "metadata": {},
   "outputs": [
    {
     "data": {
      "text/latex": [
       "$\\displaystyle \\frac{x^{2} \\left(- 6 x - 3\\right)}{\\left(x^{2} + x\\right)^{4}} + \\frac{2 x}{\\left(x^{2} + x\\right)^{3}}$"
      ],
      "text/plain": [
       "x**2*(-6*x - 3)/(x**2 + x)**4 + 2*x/(x**2 + x)**3"
      ]
     },
     "execution_count": 126,
     "metadata": {},
     "output_type": "execute_result"
    }
   ],
   "source": [
    "d_profitt=sp.diff((x**2)/(x**2+x)**3,)\n",
    "d_profitt"
   ]
  },
  {
   "cell_type": "code",
   "execution_count": 128,
   "id": "23b4cc68-5b2e-4293-8b18-314d86129b28",
   "metadata": {},
   "outputs": [
    {
     "data": {
      "text/latex": [
       "$\\displaystyle 9 x^{2} \\left(x^{2} + 1\\right)^{2} \\left(x^{3} + 1\\right)^{2} + 4 x \\left(x^{2} + 1\\right) \\left(x^{3} + 1\\right)^{3}$"
      ],
      "text/plain": [
       "9*x**2*(x**2 + 1)**2*(x**3 + 1)**2 + 4*x*(x**2 + 1)*(x**3 + 1)**3"
      ]
     },
     "execution_count": 128,
     "metadata": {},
     "output_type": "execute_result"
    }
   ],
   "source": [
    "d_profitt=sp.diff(((x**2+1)**2)*((x**3+1)**3),)\n",
    "d_profitt"
   ]
  },
  {
   "cell_type": "code",
   "execution_count": 129,
   "id": "2655db29-5c2c-47a2-b11a-d2c1ae711c2d",
   "metadata": {},
   "outputs": [],
   "source": [
    "#21 Oppgave 2 a,b,c,d,e,f"
   ]
  },
  {
   "cell_type": "code",
   "execution_count": 131,
   "id": "568d8900-e6d2-4bdb-b765-09aeda782ca7",
   "metadata": {},
   "outputs": [
    {
     "data": {
      "text/latex": [
       "$\\displaystyle \\frac{0.5 \\left(24 x + 8\\right) \\left(\\left(3 x^{2} + 2 x\\right)^{4}\\right)^{0.5}}{3 x^{2} + 2 x}$"
      ],
      "text/plain": [
       "0.5*(24*x + 8)*((3*x**2 + 2*x)**4)**0.5/(3*x**2 + 2*x)"
      ]
     },
     "execution_count": 131,
     "metadata": {},
     "output_type": "execute_result"
    }
   ],
   "source": [
    "d_profitt=sp.diff(((3*x**2+2*x)**4)**(1/2),)\n",
    "d_profitt"
   ]
  },
  {
   "cell_type": "code",
   "execution_count": 133,
   "id": "8e298d63-ed93-4649-8650-8e3ed9471fde",
   "metadata": {},
   "outputs": [
    {
     "data": {
      "text/latex": [
       "$\\displaystyle 15 x^{2} \\left(x^{2} + 3\\right)^{4} \\left(x^{3} + 3\\right)^{4} + 8 x \\left(x^{2} + 3\\right)^{3} \\left(x^{3} + 3\\right)^{5}$"
      ],
      "text/plain": [
       "15*x**2*(x**2 + 3)**4*(x**3 + 3)**4 + 8*x*(x**2 + 3)**3*(x**3 + 3)**5"
      ]
     },
     "execution_count": 133,
     "metadata": {},
     "output_type": "execute_result"
    }
   ],
   "source": [
    "d_profitt=sp.diff(((x**3+3)**5)*((x**2+3)**4),)\n",
    "d_profitt"
   ]
  },
  {
   "cell_type": "code",
   "execution_count": 135,
   "id": "b66cab42-70a3-4dde-b804-7e7daa7adab2",
   "metadata": {},
   "outputs": [
    {
     "data": {
      "text/latex": [
       "$\\displaystyle \\frac{1.0 x^{3}}{\\left(x^{2} + 1\\right)^{0.5}} + 2 x \\left(x^{2} + 1\\right)^{0.5}$"
      ],
      "text/plain": [
       "1.0*x**3*(x**2 + 1)**(-0.5) + 2*x*(x**2 + 1)**0.5"
      ]
     },
     "execution_count": 135,
     "metadata": {},
     "output_type": "execute_result"
    }
   ],
   "source": [
    "d_profitt=sp.diff(((x**2+1)**(1/2))*x**2,)\n",
    "d_profitt"
   ]
  },
  {
   "cell_type": "code",
   "execution_count": 137,
   "id": "d03270fe-e169-4d0f-9ffa-57964c49b5df",
   "metadata": {},
   "outputs": [
    {
     "data": {
      "text/latex": [
       "$\\displaystyle \\frac{\\left(18 x + 6\\right) \\left(3 x^{2} + 2 x\\right)^{2}}{x^{2}} - \\frac{2 \\left(3 x^{2} + 2 x\\right)^{3}}{x^{3}}$"
      ],
      "text/plain": [
       "(18*x + 6)*(3*x**2 + 2*x)**2/x**2 - 2*(3*x**2 + 2*x)**3/x**3"
      ]
     },
     "execution_count": 137,
     "metadata": {},
     "output_type": "execute_result"
    }
   ],
   "source": [
    "d_profitt=sp.diff(((2*x+3*x**2)**3)/x**2,)\n",
    "d_profitt"
   ]
  },
  {
   "cell_type": "code",
   "execution_count": 140,
   "id": "487fb9ca-6eb7-4dfd-ad1e-25d22078d76e",
   "metadata": {},
   "outputs": [
    {
     "data": {
      "text/latex": [
       "$\\displaystyle 6.0 x^{3} \\left(x^{4} - 5\\right)^{0.5}$"
      ],
      "text/plain": [
       "6.0*x**3*(x**4 - 5)**0.5"
      ]
     },
     "execution_count": 140,
     "metadata": {},
     "output_type": "execute_result"
    }
   ],
   "source": [
    "d_profitt=sp.diff((x**4-5)**((1/2)*3),)\n",
    "d_profitt"
   ]
  },
  {
   "cell_type": "code",
   "execution_count": 143,
   "id": "0c387d59-656a-400a-b469-48cc4f7d7094",
   "metadata": {},
   "outputs": [
    {
     "data": {
      "text/latex": [
       "$\\displaystyle - \\frac{2.0 x^{6}}{\\left(x^{4} - 1\\right)^{1.5}} + \\frac{3 x^{2}}{\\left(x^{4} - 1\\right)^{0.5}}$"
      ],
      "text/plain": [
       "-2.0*x**6*(x**4 - 1)**(-1.5) + 3*x**2*(x**4 - 1)**(-0.5)"
      ]
     },
     "execution_count": 143,
     "metadata": {},
     "output_type": "execute_result"
    }
   ],
   "source": [
    "d_profitt=sp.diff((x**3)/(x**4-1)**(1/2),)\n",
    "d_profitt"
   ]
  },
  {
   "cell_type": "code",
   "execution_count": 144,
   "id": "7dd28870-4ffa-4832-b5c5-b5122d94abd5",
   "metadata": {},
   "outputs": [],
   "source": []
  },
  {
   "cell_type": "code",
   "execution_count": null,
   "id": "1d88fddf-6007-4b2e-a604-6414ea817dc1",
   "metadata": {},
   "outputs": [],
   "source": []
  }
 ],
 "metadata": {
  "kernelspec": {
   "display_name": "Python 3 (ipykernel)",
   "language": "python",
   "name": "python3"
  },
  "language_info": {
   "codemirror_mode": {
    "name": "ipython",
    "version": 3
   },
   "file_extension": ".py",
   "mimetype": "text/x-python",
   "name": "python",
   "nbconvert_exporter": "python",
   "pygments_lexer": "ipython3",
   "version": "3.9.5"
  }
 },
 "nbformat": 4,
 "nbformat_minor": 5
}
